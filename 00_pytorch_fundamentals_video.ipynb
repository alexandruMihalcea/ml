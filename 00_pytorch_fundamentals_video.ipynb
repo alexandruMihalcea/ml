{
 "cells": [
  {
   "cell_type": "code",
   "execution_count": 1,
   "id": "initial_id",
   "metadata": {
    "collapsed": true,
    "ExecuteTime": {
     "end_time": "2024-03-14T10:49:42.367770Z",
     "start_time": "2024-03-14T10:49:41.254962Z"
    }
   },
   "outputs": [
    {
     "name": "stdout",
     "output_type": "stream",
     "text": [
      "PyTorch version: 2.2.0\n",
      "Is MPS (Metal Performance Shader) built? True\n",
      "Is MPS available? True\n",
      "Using device: mps\n"
     ]
    }
   ],
   "source": [
    "import torch\n",
    "import pandas as pd\n",
    "import numpy as np\n",
    "import matplotlib.pyplot as plt\n",
    "print(f\"PyTorch version: {torch.__version__}\")\n",
    "\n",
    "# Check PyTorch has access to MPS (Metal Performance Shader, Apple's GPU architecture)\n",
    "print(f\"Is MPS (Metal Performance Shader) built? {torch.backends.mps.is_built()}\")\n",
    "print(f\"Is MPS available? {torch.backends.mps.is_available()}\")\n",
    "\n",
    "# Set the device      \n",
    "device = \"mps\" if torch.backends.mps.is_available() else \"cpu\"\n",
    "torch.set_default_device(torch.device(device))\n",
    "print(f\"Using device: {device}\")"
   ]
  },
  {
   "cell_type": "markdown",
   "source": [
    "## 00. PyTorch fundamentals"
   ],
   "metadata": {
    "collapsed": false
   },
   "id": "bf67a8e83bdfbb46"
  },
  {
   "cell_type": "code",
   "outputs": [
    {
     "name": "stdout",
     "output_type": "stream",
     "text": [
      "2.2.0\n"
     ]
    }
   ],
   "source": [
    "print(torch.__version__)"
   ],
   "metadata": {
    "collapsed": false,
    "ExecuteTime": {
     "end_time": "2024-03-14T10:49:42.372455Z",
     "start_time": "2024-03-14T10:49:42.370393Z"
    }
   },
   "id": "9a7de6975dadded6",
   "execution_count": 2
  },
  {
   "cell_type": "markdown",
   "source": [
    "## Intro to tensors\n",
    "\n",
    "### Creating tensors"
   ],
   "metadata": {
    "collapsed": false
   },
   "id": "26f177e66a7381d7"
  },
  {
   "cell_type": "code",
   "outputs": [
    {
     "data": {
      "text/plain": "tensor(7, device='mps:0')"
     },
     "execution_count": 3,
     "metadata": {},
     "output_type": "execute_result"
    }
   ],
   "source": [
    "# scalar\n",
    "scalar = torch.tensor(7)\n",
    "scalar"
   ],
   "metadata": {
    "collapsed": false,
    "ExecuteTime": {
     "end_time": "2024-03-14T10:49:42.420393Z",
     "start_time": "2024-03-14T10:49:42.373112Z"
    }
   },
   "id": "ac949a022c628d36",
   "execution_count": 3
  },
  {
   "cell_type": "code",
   "outputs": [
    {
     "data": {
      "text/plain": "0"
     },
     "execution_count": 4,
     "metadata": {},
     "output_type": "execute_result"
    }
   ],
   "source": [
    "scalar.ndim"
   ],
   "metadata": {
    "collapsed": false,
    "ExecuteTime": {
     "end_time": "2024-03-14T10:49:42.423455Z",
     "start_time": "2024-03-14T10:49:42.421225Z"
    }
   },
   "id": "cdf760c91c59b796",
   "execution_count": 4
  },
  {
   "cell_type": "code",
   "outputs": [
    {
     "data": {
      "text/plain": "7"
     },
     "execution_count": 5,
     "metadata": {},
     "output_type": "execute_result"
    }
   ],
   "source": [
    "# get tensor back as python int\n",
    "scalar.item()"
   ],
   "metadata": {
    "collapsed": false,
    "ExecuteTime": {
     "end_time": "2024-03-14T10:49:42.427169Z",
     "start_time": "2024-03-14T10:49:42.425030Z"
    }
   },
   "id": "500e7f28afc8da9a",
   "execution_count": 5
  },
  {
   "cell_type": "code",
   "outputs": [
    {
     "data": {
      "text/plain": "tensor([7, 7], device='mps:0')"
     },
     "execution_count": 6,
     "metadata": {},
     "output_type": "execute_result"
    }
   ],
   "source": [
    "# vector :\n",
    "vector = torch.tensor([7, 7])\n",
    "vector"
   ],
   "metadata": {
    "collapsed": false,
    "ExecuteTime": {
     "end_time": "2024-03-14T10:49:42.433324Z",
     "start_time": "2024-03-14T10:49:42.427701Z"
    }
   },
   "id": "134687ff71e26a67",
   "execution_count": 6
  },
  {
   "cell_type": "code",
   "outputs": [
    {
     "data": {
      "text/plain": "1"
     },
     "execution_count": 7,
     "metadata": {},
     "output_type": "execute_result"
    }
   ],
   "source": [
    "vector.ndim"
   ],
   "metadata": {
    "collapsed": false,
    "ExecuteTime": {
     "end_time": "2024-03-14T10:49:42.436191Z",
     "start_time": "2024-03-14T10:49:42.434029Z"
    }
   },
   "id": "25dd0d5f24fab81a",
   "execution_count": 7
  },
  {
   "cell_type": "code",
   "outputs": [
    {
     "data": {
      "text/plain": "torch.Size([2])"
     },
     "execution_count": 8,
     "metadata": {},
     "output_type": "execute_result"
    }
   ],
   "source": [
    "vector.shape"
   ],
   "metadata": {
    "collapsed": false,
    "ExecuteTime": {
     "end_time": "2024-03-14T10:49:42.438638Z",
     "start_time": "2024-03-14T10:49:42.436814Z"
    }
   },
   "id": "37cb980f38820e0a",
   "execution_count": 8
  },
  {
   "cell_type": "code",
   "outputs": [
    {
     "data": {
      "text/plain": "tensor([[ 7,  8],\n        [ 9, 10]], device='mps:0')"
     },
     "execution_count": 9,
     "metadata": {},
     "output_type": "execute_result"
    }
   ],
   "source": [
    "# Matrix\n",
    "MATRIX = torch.tensor([[7, 8],\n",
    "                       [9, 10]])\n",
    "MATRIX"
   ],
   "metadata": {
    "collapsed": false,
    "ExecuteTime": {
     "end_time": "2024-03-14T10:49:42.442429Z",
     "start_time": "2024-03-14T10:49:42.439179Z"
    }
   },
   "id": "5c898754cbbec518",
   "execution_count": 9
  },
  {
   "cell_type": "code",
   "outputs": [
    {
     "data": {
      "text/plain": "2"
     },
     "execution_count": 10,
     "metadata": {},
     "output_type": "execute_result"
    }
   ],
   "source": [
    "MATRIX.ndim"
   ],
   "metadata": {
    "collapsed": false,
    "ExecuteTime": {
     "end_time": "2024-03-14T10:49:42.444645Z",
     "start_time": "2024-03-14T10:49:42.442976Z"
    }
   },
   "id": "59fd0d2d2e9ee732",
   "execution_count": 10
  },
  {
   "cell_type": "code",
   "outputs": [
    {
     "data": {
      "text/plain": "tensor([ 9, 10], device='mps:0')"
     },
     "execution_count": 11,
     "metadata": {},
     "output_type": "execute_result"
    }
   ],
   "source": [
    "MATRIX[1]"
   ],
   "metadata": {
    "collapsed": false,
    "ExecuteTime": {
     "end_time": "2024-03-14T10:49:42.448032Z",
     "start_time": "2024-03-14T10:49:42.445292Z"
    }
   },
   "id": "a17790ce4eecbc",
   "execution_count": 11
  },
  {
   "cell_type": "code",
   "outputs": [
    {
     "data": {
      "text/plain": "torch.Size([2, 2])"
     },
     "execution_count": 12,
     "metadata": {},
     "output_type": "execute_result"
    }
   ],
   "source": [
    "MATRIX.shape"
   ],
   "metadata": {
    "collapsed": false,
    "ExecuteTime": {
     "end_time": "2024-03-14T10:49:42.450309Z",
     "start_time": "2024-03-14T10:49:42.448658Z"
    }
   },
   "id": "bc8f59d583c16955",
   "execution_count": 12
  },
  {
   "cell_type": "code",
   "outputs": [
    {
     "data": {
      "text/plain": "tensor([[[1, 2, 3],\n         [3, 6, 9],\n         [2, 5, 4]]], device='mps:0')"
     },
     "execution_count": 13,
     "metadata": {},
     "output_type": "execute_result"
    }
   ],
   "source": [
    "# Tensor\n",
    "TENSOR = torch.tensor([[[1, 2, 3],\n",
    "                        [3, 6, 9],\n",
    "                        [2, 5, 4]]])\n",
    "TENSOR"
   ],
   "metadata": {
    "collapsed": false,
    "ExecuteTime": {
     "end_time": "2024-03-14T10:49:42.456125Z",
     "start_time": "2024-03-14T10:49:42.450848Z"
    }
   },
   "id": "a1179aa428993ad4",
   "execution_count": 13
  },
  {
   "cell_type": "code",
   "outputs": [
    {
     "data": {
      "text/plain": "3"
     },
     "execution_count": 14,
     "metadata": {},
     "output_type": "execute_result"
    }
   ],
   "source": [
    "TENSOR.ndim"
   ],
   "metadata": {
    "collapsed": false,
    "ExecuteTime": {
     "end_time": "2024-03-14T10:49:42.460452Z",
     "start_time": "2024-03-14T10:49:42.458673Z"
    }
   },
   "id": "b7d13b9a26928bcf",
   "execution_count": 14
  },
  {
   "cell_type": "code",
   "outputs": [
    {
     "data": {
      "text/plain": "torch.Size([1, 3, 3])"
     },
     "execution_count": 15,
     "metadata": {},
     "output_type": "execute_result"
    }
   ],
   "source": [
    "TENSOR.shape"
   ],
   "metadata": {
    "collapsed": false,
    "ExecuteTime": {
     "end_time": "2024-03-14T10:49:42.462578Z",
     "start_time": "2024-03-14T10:49:42.461011Z"
    }
   },
   "id": "2d6696362adf56bc",
   "execution_count": 15
  },
  {
   "cell_type": "code",
   "outputs": [
    {
     "data": {
      "text/plain": "tensor([[1, 2, 3],\n        [3, 6, 9],\n        [2, 5, 4]], device='mps:0')"
     },
     "execution_count": 16,
     "metadata": {},
     "output_type": "execute_result"
    }
   ],
   "source": [
    "TENSOR[0]"
   ],
   "metadata": {
    "collapsed": false,
    "ExecuteTime": {
     "end_time": "2024-03-14T10:49:42.467169Z",
     "start_time": "2024-03-14T10:49:42.463016Z"
    }
   },
   "id": "c6e4595c52ed2a7a",
   "execution_count": 16
  },
  {
   "cell_type": "code",
   "outputs": [
    {
     "data": {
      "text/plain": "tensor([2, 5, 4], device='mps:0')"
     },
     "execution_count": 17,
     "metadata": {},
     "output_type": "execute_result"
    }
   ],
   "source": [
    "TENSOR[0][2]"
   ],
   "metadata": {
    "collapsed": false,
    "ExecuteTime": {
     "end_time": "2024-03-14T10:49:42.470500Z",
     "start_time": "2024-03-14T10:49:42.467848Z"
    }
   },
   "id": "7d3112e8d535532",
   "execution_count": 17
  },
  {
   "cell_type": "markdown",
   "source": [
    "### Random tensors\n",
    "Why random tensors?\n",
    "\n",
    "Random tensors are important because the way many neural nets learn is that they start with tensors full of random numbers, then adjust those random numbers to better represent the data.\n",
    "\n",
    "`Start with random number -> look at data -> update random numbers -> look at data -> update random numbers`"
   ],
   "metadata": {
    "collapsed": false
   },
   "id": "4423ee9979ec893a"
  },
  {
   "cell_type": "code",
   "outputs": [
    {
     "data": {
      "text/plain": "tensor([[0.8634, 0.1199, 0.4663, 0.6736],\n        [0.6518, 0.8340, 0.6629, 0.7174],\n        [0.9251, 0.2244, 0.6262, 0.0065]], device='mps:0')"
     },
     "execution_count": 18,
     "metadata": {},
     "output_type": "execute_result"
    }
   ],
   "source": [
    "# Create a random tensor of size (3, 4)\n",
    "random_tensor = torch.rand(3, 4)\n",
    "random_tensor"
   ],
   "metadata": {
    "collapsed": false,
    "ExecuteTime": {
     "end_time": "2024-03-14T10:49:44.757260Z",
     "start_time": "2024-03-14T10:49:42.471006Z"
    }
   },
   "id": "64a06a704883627c",
   "execution_count": 18
  },
  {
   "cell_type": "code",
   "outputs": [
    {
     "data": {
      "text/plain": "2"
     },
     "execution_count": 19,
     "metadata": {},
     "output_type": "execute_result"
    }
   ],
   "source": [
    "random_tensor.ndim"
   ],
   "metadata": {
    "collapsed": false,
    "ExecuteTime": {
     "end_time": "2024-03-14T10:49:44.760248Z",
     "start_time": "2024-03-14T10:49:44.757979Z"
    }
   },
   "id": "1113e68d3e4c7467",
   "execution_count": 19
  },
  {
   "cell_type": "code",
   "outputs": [
    {
     "data": {
      "text/plain": "(torch.Size([224, 224, 3]), 3)"
     },
     "execution_count": 20,
     "metadata": {},
     "output_type": "execute_result"
    }
   ],
   "source": [
    "# create a random tensor with similar shape to an image tensor :\n",
    "random_image_size_tensor = torch.rand(size=(224, 224, 3)) # height, width, color channels\n",
    "random_image_size_tensor.shape, random_image_size_tensor.ndim"
   ],
   "metadata": {
    "collapsed": false,
    "ExecuteTime": {
     "end_time": "2024-03-14T10:49:44.765905Z",
     "start_time": "2024-03-14T10:49:44.760916Z"
    }
   },
   "id": "6eae6814b24bd979",
   "execution_count": 20
  },
  {
   "cell_type": "code",
   "outputs": [],
   "source": [
    "random_tensor2 = torch.rand(size=(11, 22))"
   ],
   "metadata": {
    "collapsed": false,
    "ExecuteTime": {
     "end_time": "2024-03-14T10:49:44.770746Z",
     "start_time": "2024-03-14T10:49:44.766537Z"
    }
   },
   "id": "ac5f513e38b4a2bf",
   "execution_count": 21
  },
  {
   "cell_type": "markdown",
   "source": [
    "## Zeros and ones"
   ],
   "metadata": {
    "collapsed": false
   },
   "id": "93c6126d229286ac"
  },
  {
   "cell_type": "code",
   "outputs": [
    {
     "data": {
      "text/plain": "tensor([[0.],\n        [0.],\n        [0.]], device='mps:0')"
     },
     "execution_count": 22,
     "metadata": {},
     "output_type": "execute_result"
    }
   ],
   "source": [
    "zeros = torch.zeros(size=(3, 1))\n",
    "zeros"
   ],
   "metadata": {
    "collapsed": false,
    "ExecuteTime": {
     "end_time": "2024-03-14T10:49:44.791355Z",
     "start_time": "2024-03-14T10:49:44.771421Z"
    }
   },
   "id": "62ed94700d3f967d",
   "execution_count": 22
  },
  {
   "cell_type": "code",
   "outputs": [
    {
     "data": {
      "text/plain": "tensor([[0.8634, 0.1199, 0.4663, 0.6736],\n        [0.6518, 0.8340, 0.6629, 0.7174],\n        [0.9251, 0.2244, 0.6262, 0.0065]], device='mps:0')"
     },
     "execution_count": 23,
     "metadata": {},
     "output_type": "execute_result"
    }
   ],
   "source": [
    "random_tensor"
   ],
   "metadata": {
    "collapsed": false,
    "ExecuteTime": {
     "end_time": "2024-03-14T10:49:44.799972Z",
     "start_time": "2024-03-14T10:49:44.792147Z"
    }
   },
   "id": "1e58c9229a9c83de",
   "execution_count": 23
  },
  {
   "cell_type": "code",
   "outputs": [
    {
     "data": {
      "text/plain": "tensor([[0., 0., 0., 0.],\n        [0., 0., 0., 0.],\n        [0., 0., 0., 0.]], device='mps:0')"
     },
     "execution_count": 24,
     "metadata": {},
     "output_type": "execute_result"
    }
   ],
   "source": [
    "zeros * random_tensor"
   ],
   "metadata": {
    "collapsed": false,
    "ExecuteTime": {
     "end_time": "2024-03-14T10:49:44.842432Z",
     "start_time": "2024-03-14T10:49:44.800761Z"
    }
   },
   "id": "6f8f61282409a996",
   "execution_count": 24
  },
  {
   "cell_type": "code",
   "outputs": [
    {
     "data": {
      "text/plain": "tensor([[1., 1., 1., 1.],\n        [1., 1., 1., 1.],\n        [1., 1., 1., 1.]], device='mps:0')"
     },
     "execution_count": 25,
     "metadata": {},
     "output_type": "execute_result"
    }
   ],
   "source": [
    "# tensor of ones :\n",
    "ones = torch.ones(size=(3, 4))\n",
    "ones"
   ],
   "metadata": {
    "collapsed": false,
    "ExecuteTime": {
     "end_time": "2024-03-14T10:49:44.886972Z",
     "start_time": "2024-03-14T10:49:44.843168Z"
    }
   },
   "id": "137c1fcda6bbf5c6",
   "execution_count": 25
  },
  {
   "cell_type": "code",
   "outputs": [
    {
     "data": {
      "text/plain": "torch.float32"
     },
     "execution_count": 26,
     "metadata": {},
     "output_type": "execute_result"
    }
   ],
   "source": [
    "ones.dtype"
   ],
   "metadata": {
    "collapsed": false,
    "ExecuteTime": {
     "end_time": "2024-03-14T10:49:44.889525Z",
     "start_time": "2024-03-14T10:49:44.887653Z"
    }
   },
   "id": "c5ecc5e5f727eee7",
   "execution_count": 26
  },
  {
   "cell_type": "markdown",
   "source": [
    "### Creating a range of tensors and tensors-like"
   ],
   "metadata": {
    "collapsed": false
   },
   "id": "a7a2a6c27c2ab539"
  },
  {
   "cell_type": "code",
   "outputs": [
    {
     "data": {
      "text/plain": "tensor([ 1,  2,  3,  4,  5,  6,  7,  8,  9, 10], device='mps:0')"
     },
     "execution_count": 27,
     "metadata": {},
     "output_type": "execute_result"
    }
   ],
   "source": [
    "# Range :\n",
    "one_to_ten = torch.arange(1, 11, 1)\n",
    "one_to_ten"
   ],
   "metadata": {
    "collapsed": false,
    "ExecuteTime": {
     "end_time": "2024-03-14T10:49:44.941824Z",
     "start_time": "2024-03-14T10:49:44.890150Z"
    }
   },
   "id": "431ad583ec17981d",
   "execution_count": 27
  },
  {
   "cell_type": "code",
   "outputs": [
    {
     "data": {
      "text/plain": "tensor([0, 0, 0, 0, 0, 0, 0, 0, 0, 0], device='mps:0')"
     },
     "execution_count": 28,
     "metadata": {},
     "output_type": "execute_result"
    }
   ],
   "source": [
    "# Creating tensor-like :\n",
    "ten_zeros = torch.zeros_like(one_to_ten)\n",
    "ten_zeros"
   ],
   "metadata": {
    "collapsed": false,
    "ExecuteTime": {
     "end_time": "2024-03-14T10:49:44.947907Z",
     "start_time": "2024-03-14T10:49:44.942438Z"
    }
   },
   "id": "dbb5ddd68cc393e1",
   "execution_count": 28
  },
  {
   "cell_type": "markdown",
   "source": [
    "### Tensor datatypes\n",
    "\n",
    "**Note:** tensor datatypes is one of the 3 big errors we run into with PyTorch and DL :\n",
    "1. Tensors not the right datatype\n",
    "2. Tensors not in the right shape\n",
    "3. Tensors not on the correct device"
   ],
   "metadata": {
    "collapsed": false
   },
   "id": "e76e6c7bd0c7ef10"
  },
  {
   "cell_type": "code",
   "outputs": [
    {
     "data": {
      "text/plain": "tensor([3., 6., 9.], device='mps:0')"
     },
     "execution_count": 29,
     "metadata": {},
     "output_type": "execute_result"
    }
   ],
   "source": [
    "# Float32 tensor :\n",
    "float_32_tensor = torch.tensor([3.0, 6.0, 9.0], dtype=torch.float32,\n",
    "                               device=torch.device(device),\n",
    "                               requires_grad=False)\n",
    "float_32_tensor"
   ],
   "metadata": {
    "collapsed": false,
    "ExecuteTime": {
     "end_time": "2024-03-14T10:49:44.962852Z",
     "start_time": "2024-03-14T10:49:44.948565Z"
    }
   },
   "id": "f221594ea2a7d7b0",
   "execution_count": 29
  },
  {
   "cell_type": "code",
   "outputs": [
    {
     "data": {
      "text/plain": "torch.float32"
     },
     "execution_count": 30,
     "metadata": {},
     "output_type": "execute_result"
    }
   ],
   "source": [
    "float_32_tensor.dtype"
   ],
   "metadata": {
    "collapsed": false,
    "ExecuteTime": {
     "end_time": "2024-03-14T10:49:44.965596Z",
     "start_time": "2024-03-14T10:49:44.963499Z"
    }
   },
   "id": "2dbb9416e526b5b4",
   "execution_count": 30
  },
  {
   "cell_type": "code",
   "outputs": [
    {
     "data": {
      "text/plain": "tensor([3., 6., 9.], device='mps:0', dtype=torch.float16)"
     },
     "execution_count": 31,
     "metadata": {},
     "output_type": "execute_result"
    }
   ],
   "source": [
    "float_16_tensor = float_32_tensor.type(torch.float16)\n",
    "float_16_tensor"
   ],
   "metadata": {
    "collapsed": false,
    "ExecuteTime": {
     "end_time": "2024-03-14T10:49:45.034497Z",
     "start_time": "2024-03-14T10:49:44.966195Z"
    }
   },
   "id": "2a4bf3ecbcd44d2",
   "execution_count": 31
  },
  {
   "cell_type": "code",
   "outputs": [
    {
     "data": {
      "text/plain": "torch.float32"
     },
     "execution_count": 32,
     "metadata": {},
     "output_type": "execute_result"
    }
   ],
   "source": [
    "(float_16_tensor * float_32_tensor).dtype"
   ],
   "metadata": {
    "collapsed": false,
    "ExecuteTime": {
     "end_time": "2024-03-14T10:49:45.059593Z",
     "start_time": "2024-03-14T10:49:45.035185Z"
    }
   },
   "id": "881313ec6f2859d3",
   "execution_count": 32
  },
  {
   "cell_type": "code",
   "outputs": [
    {
     "data": {
      "text/plain": "tensor([3, 6, 9], device='mps:0', dtype=torch.int32)"
     },
     "execution_count": 33,
     "metadata": {},
     "output_type": "execute_result"
    }
   ],
   "source": [
    "int32_tensor = torch.tensor([3, 6, 9], dtype=torch.int32)\n",
    "int32_tensor"
   ],
   "metadata": {
    "collapsed": false,
    "ExecuteTime": {
     "end_time": "2024-03-14T10:49:45.063993Z",
     "start_time": "2024-03-14T10:49:45.060221Z"
    }
   },
   "id": "b0b68e53c0c25d52",
   "execution_count": 33
  },
  {
   "cell_type": "code",
   "outputs": [
    {
     "data": {
      "text/plain": "torch.float32"
     },
     "execution_count": 34,
     "metadata": {},
     "output_type": "execute_result"
    }
   ],
   "source": [
    "(float_32_tensor * int32_tensor).dtype"
   ],
   "metadata": {
    "collapsed": false,
    "ExecuteTime": {
     "end_time": "2024-03-14T10:49:45.092926Z",
     "start_time": "2024-03-14T10:49:45.064673Z"
    }
   },
   "id": "49290a4f53ca69d7",
   "execution_count": 34
  },
  {
   "cell_type": "markdown",
   "source": [
    "### Getting information from tensors\n",
    "\n",
    "1. Tensors not the right datatype - call `tensor.dtype`\n",
    "2. Tensors not in the right shape - call `tensor.shape`\n",
    "3. Tensors not on the correct device - call `tensor.device`"
   ],
   "metadata": {
    "collapsed": false
   },
   "id": "ac57e3de0881689e"
  },
  {
   "cell_type": "code",
   "outputs": [
    {
     "data": {
      "text/plain": "tensor([[0.8246, 0.3041, 0.9930, 0.1678],\n        [0.1009, 0.5247, 0.7202, 0.2021],\n        [0.1380, 0.7613, 0.6582, 0.0247]], device='mps:0')"
     },
     "execution_count": 35,
     "metadata": {},
     "output_type": "execute_result"
    }
   ],
   "source": [
    "some_tensor = torch.rand(3, 4)\n",
    "some_tensor"
   ],
   "metadata": {
    "collapsed": false,
    "ExecuteTime": {
     "end_time": "2024-03-14T10:49:45.100812Z",
     "start_time": "2024-03-14T10:49:45.093688Z"
    }
   },
   "id": "726857301b30f595",
   "execution_count": 35
  },
  {
   "cell_type": "code",
   "outputs": [
    {
     "name": "stdout",
     "output_type": "stream",
     "text": [
      "tensor([[0.8246, 0.3041, 0.9930, 0.1678],\n",
      "        [0.1009, 0.5247, 0.7202, 0.2021],\n",
      "        [0.1380, 0.7613, 0.6582, 0.0247]], device='mps:0')\n",
      "Datatype of tensor: torch.float32\n",
      "Shape of tensor: torch.Size([3, 4])\n",
      "Device of tensor: mps:0\n"
     ]
    }
   ],
   "source": [
    "#some_tensor.dtype, some_tensor.shape, some_tensor.device\n",
    "\n",
    "print(some_tensor)\n",
    "print(f\"Datatype of tensor: {some_tensor.dtype}\")\n",
    "print(f\"Shape of tensor: {some_tensor.shape}\")\n",
    "print(f\"Device of tensor: {some_tensor.device}\")"
   ],
   "metadata": {
    "collapsed": false,
    "ExecuteTime": {
     "end_time": "2024-03-14T10:49:45.108336Z",
     "start_time": "2024-03-14T10:49:45.101452Z"
    }
   },
   "id": "788e88e4159d18fc",
   "execution_count": 36
  },
  {
   "cell_type": "markdown",
   "source": [
    "### Manipulating tensors (tensor operations)\n",
    "\n",
    "Tensor operations include:\n",
    "* Addition\n",
    "* Subtraction\n",
    "* Multiplication (element-wise)\n",
    "* Division\n",
    "* Matrix multiplication"
   ],
   "metadata": {
    "collapsed": false
   },
   "id": "8b6ac542386fd52d"
  },
  {
   "cell_type": "code",
   "outputs": [
    {
     "data": {
      "text/plain": "torch.float32"
     },
     "execution_count": 37,
     "metadata": {},
     "output_type": "execute_result"
    }
   ],
   "source": [
    "# Create a tensor and add 10 to it:\n",
    "tensor = torch.tensor([1, 2, 3], dtype=torch.float32)\n",
    "tensor.dtype"
   ],
   "metadata": {
    "collapsed": false,
    "ExecuteTime": {
     "end_time": "2024-03-14T10:49:45.111297Z",
     "start_time": "2024-03-14T10:49:45.109028Z"
    }
   },
   "id": "73298d3943cff9ce",
   "execution_count": 37
  },
  {
   "cell_type": "code",
   "outputs": [
    {
     "data": {
      "text/plain": "tensor([10., 20., 30.], device='mps:0')"
     },
     "execution_count": 38,
     "metadata": {},
     "output_type": "execute_result"
    }
   ],
   "source": [
    "# Multiply tensor by 10 :\n",
    "tensor * 10"
   ],
   "metadata": {
    "collapsed": false,
    "ExecuteTime": {
     "end_time": "2024-03-14T10:49:45.141482Z",
     "start_time": "2024-03-14T10:49:45.111791Z"
    }
   },
   "id": "df864f78500dbebd",
   "execution_count": 38
  },
  {
   "cell_type": "code",
   "outputs": [
    {
     "data": {
      "text/plain": "tensor([-9., -8., -7.], device='mps:0')"
     },
     "execution_count": 39,
     "metadata": {},
     "output_type": "execute_result"
    }
   ],
   "source": [
    "# Subtract : \n",
    "tensor - 10"
   ],
   "metadata": {
    "collapsed": false,
    "ExecuteTime": {
     "end_time": "2024-03-14T10:49:45.173Z",
     "start_time": "2024-03-14T10:49:45.142152Z"
    }
   },
   "id": "2b8f47e6eece2e76",
   "execution_count": 39
  },
  {
   "cell_type": "code",
   "outputs": [
    {
     "data": {
      "text/plain": "tensor([10., 20., 30.], device='mps:0')"
     },
     "execution_count": 40,
     "metadata": {},
     "output_type": "execute_result"
    }
   ],
   "source": [
    "# Try out PyTorch built-in functions : \n",
    "torch.mul(tensor, 10)"
   ],
   "metadata": {
    "collapsed": false,
    "ExecuteTime": {
     "end_time": "2024-03-14T10:49:45.179015Z",
     "start_time": "2024-03-14T10:49:45.173870Z"
    }
   },
   "id": "d2e20db1e314b00",
   "execution_count": 40
  },
  {
   "cell_type": "code",
   "outputs": [
    {
     "data": {
      "text/plain": "tensor([11., 12., 13.], device='mps:0')"
     },
     "execution_count": 41,
     "metadata": {},
     "output_type": "execute_result"
    }
   ],
   "source": [
    "torch.add(tensor, 10)"
   ],
   "metadata": {
    "collapsed": false,
    "ExecuteTime": {
     "end_time": "2024-03-14T10:49:45.214464Z",
     "start_time": "2024-03-14T10:49:45.183888Z"
    }
   },
   "id": "feaa85d91bda176",
   "execution_count": 41
  },
  {
   "cell_type": "code",
   "outputs": [
    {
     "data": {
      "text/plain": "tensor([2., 4., 6.], device='mps:0')"
     },
     "execution_count": 42,
     "metadata": {},
     "output_type": "execute_result"
    }
   ],
   "source": [
    "torch.div(tensor, 0.5)"
   ],
   "metadata": {
    "collapsed": false,
    "ExecuteTime": {
     "end_time": "2024-03-14T10:49:45.244792Z",
     "start_time": "2024-03-14T10:49:45.215128Z"
    }
   },
   "id": "a99dd6765cb33904",
   "execution_count": 42
  },
  {
   "cell_type": "markdown",
   "source": [
    "### Matrix multiplication\n",
    "\n",
    "Two main ways of performing matrix multiplication in neural networks and deep learning :\n",
    "1. Element-wise multiplication\n",
    "2. Matrix multiplication (dot product)\n",
    " \n",
    "More information on multiplying matrices - https://www.mathsisfun.com/algebra/matrix-multiplying.html\n",
    "\n",
    "There are two main rules that performing matrix multiplication must satisfy :\n",
    "1. The **inner dimensions** must match (inner dimensions means the dimensions closest to the **@** operator:\n",
    "* `(3, 2) @ (3, 2)` won't work\n",
    "* `(2, 3) @ (3, 2)` will work\n",
    "* `(3, 2) @ (2, 3)` will work\n",
    "2. The resulting matrix has the shape of the **outer dimensions**:\n",
    "* `(2, 3) @ (3, 2)` -> `(2, 2)`\n",
    "* `(3, 2) @ (2, 3)` -> `(3, 3)`"
   ],
   "metadata": {
    "collapsed": false
   },
   "id": "7153da2b5990baad"
  },
  {
   "cell_type": "code",
   "outputs": [
    {
     "name": "stdout",
     "output_type": "stream",
     "text": [
      "tensor([1., 2., 3.], device='mps:0') * tensor([1., 2., 3.], device='mps:0')\n",
      "Equals: tensor([1., 4., 9.], device='mps:0')\n",
      "tensor([1., 2., 3.], device='mps:0')\n"
     ]
    }
   ],
   "source": [
    "# Element wise multiplication\n",
    "print(tensor, \"*\", tensor)\n",
    "print(f\"Equals: {tensor * tensor}\")\n",
    "print(tensor)\n"
   ],
   "metadata": {
    "collapsed": false,
    "ExecuteTime": {
     "end_time": "2024-03-14T10:49:45.285664Z",
     "start_time": "2024-03-14T10:49:45.245435Z"
    }
   },
   "id": "f7492fc37bb8205",
   "execution_count": 43
  },
  {
   "cell_type": "code",
   "outputs": [
    {
     "data": {
      "text/plain": "torch.float32"
     },
     "execution_count": 44,
     "metadata": {},
     "output_type": "execute_result"
    }
   ],
   "source": [
    "tensor.dtype"
   ],
   "metadata": {
    "collapsed": false,
    "ExecuteTime": {
     "end_time": "2024-03-14T10:49:45.288376Z",
     "start_time": "2024-03-14T10:49:45.286388Z"
    }
   },
   "id": "4d2290d174222a6b",
   "execution_count": 44
  },
  {
   "cell_type": "code",
   "outputs": [
    {
     "data": {
      "text/plain": "tensor(14., device='mps:0')"
     },
     "execution_count": 45,
     "metadata": {},
     "output_type": "execute_result"
    }
   ],
   "source": [
    "# Matrix multiplication:\n",
    "torch.matmul(tensor, tensor)"
   ],
   "metadata": {
    "collapsed": false,
    "ExecuteTime": {
     "end_time": "2024-03-14T10:49:45.822236Z",
     "start_time": "2024-03-14T10:49:45.288868Z"
    }
   },
   "id": "df621c2a6cad8299",
   "execution_count": 45
  },
  {
   "cell_type": "code",
   "outputs": [
    {
     "data": {
      "text/plain": "14"
     },
     "execution_count": 46,
     "metadata": {},
     "output_type": "execute_result"
    }
   ],
   "source": [
    "# Matrix multiplication by hand :\n",
    "1 * 1 + 2 * 2 + 3 * 3"
   ],
   "metadata": {
    "collapsed": false,
    "ExecuteTime": {
     "end_time": "2024-03-14T10:49:45.824877Z",
     "start_time": "2024-03-14T10:49:45.822990Z"
    }
   },
   "id": "a9e2a6cbf572e536",
   "execution_count": 46
  },
  {
   "cell_type": "code",
   "outputs": [
    {
     "name": "stdout",
     "output_type": "stream",
     "text": [
      "CPU times: user 1e+03 ns, sys: 1 µs, total: 2 µs\n",
      "Wall time: 2.62 µs\n",
      "tensor(14., device='mps:0')\n"
     ]
    }
   ],
   "source": [
    "%time\n",
    "value = 0\n",
    "for i in range(len(tensor)):\n",
    "    value += tensor[i] * tensor[i]\n",
    "    \n",
    "print(value)"
   ],
   "metadata": {
    "collapsed": false,
    "ExecuteTime": {
     "end_time": "2024-03-14T10:49:45.898440Z",
     "start_time": "2024-03-14T10:49:45.825398Z"
    }
   },
   "id": "16994d6893b6f5d8",
   "execution_count": 47
  },
  {
   "cell_type": "code",
   "outputs": [
    {
     "name": "stdout",
     "output_type": "stream",
     "text": [
      "CPU times: user 1 µs, sys: 0 ns, total: 1 µs\n",
      "Wall time: 1.91 µs\n"
     ]
    },
    {
     "data": {
      "text/plain": "tensor(14., device='mps:0')"
     },
     "execution_count": 48,
     "metadata": {},
     "output_type": "execute_result"
    }
   ],
   "source": [
    "%time\n",
    "torch.matmul(tensor, tensor)"
   ],
   "metadata": {
    "collapsed": false,
    "ExecuteTime": {
     "end_time": "2024-03-14T10:49:45.904124Z",
     "start_time": "2024-03-14T10:49:45.899169Z"
    }
   },
   "id": "ff76d48ccbe2983b",
   "execution_count": 48
  },
  {
   "cell_type": "markdown",
   "source": [
    "### One of the most common errors in deep learning : shape errors"
   ],
   "metadata": {
    "collapsed": false
   },
   "id": "98f46ceac14b671e"
  },
  {
   "cell_type": "code",
   "outputs": [
    {
     "ename": "RuntimeError",
     "evalue": "mat1 and mat2 shapes cannot be multiplied (3x2 and 3x2)",
     "output_type": "error",
     "traceback": [
      "\u001B[0;31m---------------------------------------------------------------------------\u001B[0m",
      "\u001B[0;31mRuntimeError\u001B[0m                              Traceback (most recent call last)",
      "Cell \u001B[0;32mIn[49], line 10\u001B[0m\n\u001B[1;32m      2\u001B[0m tensor_A \u001B[38;5;241m=\u001B[39m torch\u001B[38;5;241m.\u001B[39mtensor([[\u001B[38;5;241m1\u001B[39m, \u001B[38;5;241m2\u001B[39m],\n\u001B[1;32m      3\u001B[0m                          [\u001B[38;5;241m3\u001B[39m, \u001B[38;5;241m4\u001B[39m],\n\u001B[1;32m      4\u001B[0m                          [\u001B[38;5;241m5\u001B[39m, \u001B[38;5;241m6\u001B[39m]], dtype\u001B[38;5;241m=\u001B[39mtorch\u001B[38;5;241m.\u001B[39mfloat32)\n\u001B[1;32m      6\u001B[0m tensor_B \u001B[38;5;241m=\u001B[39m torch\u001B[38;5;241m.\u001B[39mtensor([[\u001B[38;5;241m7\u001B[39m, \u001B[38;5;241m10\u001B[39m],\n\u001B[1;32m      7\u001B[0m                          [\u001B[38;5;241m8\u001B[39m, \u001B[38;5;241m11\u001B[39m],\n\u001B[1;32m      8\u001B[0m                          [\u001B[38;5;241m9\u001B[39m, \u001B[38;5;241m12\u001B[39m]], dtype\u001B[38;5;241m=\u001B[39mtorch\u001B[38;5;241m.\u001B[39mfloat32)\n\u001B[0;32m---> 10\u001B[0m \u001B[43mtorch\u001B[49m\u001B[38;5;241;43m.\u001B[39;49m\u001B[43mmm\u001B[49m\u001B[43m(\u001B[49m\u001B[43mtensor_A\u001B[49m\u001B[43m,\u001B[49m\u001B[43m \u001B[49m\u001B[43mtensor_B\u001B[49m\u001B[43m)\u001B[49m\n",
      "File \u001B[0;32m~/miniconda3/envs/machineLearningStableTorch212/lib/python3.10/site-packages/torch/utils/_device.py:77\u001B[0m, in \u001B[0;36mDeviceContext.__torch_function__\u001B[0;34m(self, func, types, args, kwargs)\u001B[0m\n\u001B[1;32m     75\u001B[0m \u001B[38;5;28;01mif\u001B[39;00m func \u001B[38;5;129;01min\u001B[39;00m _device_constructors() \u001B[38;5;129;01mand\u001B[39;00m kwargs\u001B[38;5;241m.\u001B[39mget(\u001B[38;5;124m'\u001B[39m\u001B[38;5;124mdevice\u001B[39m\u001B[38;5;124m'\u001B[39m) \u001B[38;5;129;01mis\u001B[39;00m \u001B[38;5;28;01mNone\u001B[39;00m:\n\u001B[1;32m     76\u001B[0m     kwargs[\u001B[38;5;124m'\u001B[39m\u001B[38;5;124mdevice\u001B[39m\u001B[38;5;124m'\u001B[39m] \u001B[38;5;241m=\u001B[39m \u001B[38;5;28mself\u001B[39m\u001B[38;5;241m.\u001B[39mdevice\n\u001B[0;32m---> 77\u001B[0m \u001B[38;5;28;01mreturn\u001B[39;00m \u001B[43mfunc\u001B[49m\u001B[43m(\u001B[49m\u001B[38;5;241;43m*\u001B[39;49m\u001B[43margs\u001B[49m\u001B[43m,\u001B[49m\u001B[43m \u001B[49m\u001B[38;5;241;43m*\u001B[39;49m\u001B[38;5;241;43m*\u001B[39;49m\u001B[43mkwargs\u001B[49m\u001B[43m)\u001B[49m\n",
      "\u001B[0;31mRuntimeError\u001B[0m: mat1 and mat2 shapes cannot be multiplied (3x2 and 3x2)"
     ]
    }
   ],
   "source": [
    "# Shapes for matrix multiplications :\n",
    "tensor_A = torch.tensor([[1, 2],\n",
    "                         [3, 4],\n",
    "                         [5, 6]], dtype=torch.float32)\n",
    "\n",
    "tensor_B = torch.tensor([[7, 10],\n",
    "                         [8, 11],\n",
    "                         [9, 12]], dtype=torch.float32)\n",
    "\n",
    "torch.mm(tensor_A, tensor_B)\n"
   ],
   "metadata": {
    "collapsed": false,
    "ExecuteTime": {
     "end_time": "2024-03-14T10:49:46.127380Z",
     "start_time": "2024-03-14T10:49:45.904803Z"
    }
   },
   "id": "6e06a01001fcafdd",
   "execution_count": 49
  },
  {
   "cell_type": "code",
   "outputs": [],
   "source": [
    "tensor_A.shape, tensor_B.shape"
   ],
   "metadata": {
    "collapsed": false
   },
   "id": "bf3f5cae3b49bc55",
   "execution_count": null
  },
  {
   "cell_type": "markdown",
   "source": [
    "To fix our tensor shape issues, we can manipulate the shape of one of our tensors using `transpose`\n",
    "\n",
    "A **transpose** switches the axis or dimensions of a given tensor."
   ],
   "metadata": {
    "collapsed": false
   },
   "id": "fd62e59c494d0aa4"
  },
  {
   "cell_type": "code",
   "outputs": [],
   "source": [
    "tensor_B.T, tensor_B"
   ],
   "metadata": {
    "collapsed": false
   },
   "id": "55ab7562becd6ac3",
   "execution_count": null
  },
  {
   "cell_type": "code",
   "outputs": [],
   "source": [
    "torch.matmul(tensor_A, tensor_B.T) # tensor_B still contains the same information, but transposed by axis"
   ],
   "metadata": {
    "collapsed": false
   },
   "id": "2321d20d279016dd",
   "execution_count": null
  },
  {
   "cell_type": "markdown",
   "source": [
    "### Finding the min, max, mean, sum, etc. (tensor aggregation)\n"
   ],
   "metadata": {
    "collapsed": false
   },
   "id": "191ad452b5b6c41a"
  },
  {
   "cell_type": "code",
   "outputs": [],
   "source": [
    "# Create a tensor : \n",
    "x = torch.arange(0, 100, 10)\n",
    "x"
   ],
   "metadata": {
    "collapsed": false
   },
   "id": "7f79229c5235f38e",
   "execution_count": null
  },
  {
   "cell_type": "code",
   "outputs": [],
   "source": [
    "# Find the min : \n",
    "torch.min(x), x.min()"
   ],
   "metadata": {
    "collapsed": false
   },
   "id": "a0937e4517f99088",
   "execution_count": null
  },
  {
   "cell_type": "code",
   "outputs": [],
   "source": [
    "#Find the max :\n",
    "torch.max(x), x.max()"
   ],
   "metadata": {
    "collapsed": false
   },
   "id": "d69614585205b908",
   "execution_count": null
  },
  {
   "cell_type": "code",
   "outputs": [],
   "source": [
    "# Find the mean : \n",
    "torch.mean(x.type(torch.float32)), x.type(torch.float32).mean()"
   ],
   "metadata": {
    "collapsed": false
   },
   "id": "d45bd1f9d889c7e6",
   "execution_count": null
  },
  {
   "cell_type": "code",
   "outputs": [],
   "source": [
    "# Find the sum : \n",
    "torch.sum(x), x.sum()"
   ],
   "metadata": {
    "collapsed": false
   },
   "id": "f6e3f2ca960e7f64",
   "execution_count": null
  },
  {
   "cell_type": "markdown",
   "source": [
    "### Finding positional min and max in a tensor (the indices of the min and max inside the tensor)"
   ],
   "metadata": {
    "collapsed": false
   },
   "id": "a54fdbe75d13c1b3"
  },
  {
   "cell_type": "code",
   "outputs": [],
   "source": [
    "x.argmin(), x.argmax(), torch.argmin(x), torch.argmax(x)"
   ],
   "metadata": {
    "collapsed": false
   },
   "id": "2c3f101d98101c08",
   "execution_count": null
  },
  {
   "cell_type": "markdown",
   "source": [
    "### Reshaping, stacking, squeezing and unsqueezing tensors\n",
    "\n",
    "* Reshaping - reshapes an input tensor to a defined shape\n",
    "* View - return a view of an input tensor of a certain shape but keep the same memory as the original tensor\n",
    "* Stacking - combine multiple tensors on top of each other (vstack) or next to each other (hstack)\n",
    "* Squeeze - remove all `1` dimensions from a tensor\n",
    "* Unsqueeze - add a `1` dimension to a tensor\n",
    "* Permute - return a view of the input with dimensions permuted (swapped) in a certain way"
   ],
   "metadata": {
    "collapsed": false
   },
   "id": "f5cdc30e8f71ef7"
  },
  {
   "cell_type": "code",
   "outputs": [],
   "source": [
    "# Let's create a tensor : \n",
    "x = torch.arange(1., 10.)\n",
    "x, x.shape"
   ],
   "metadata": {
    "collapsed": false
   },
   "id": "e5ac0da1712142f6",
   "execution_count": null
  },
  {
   "cell_type": "code",
   "outputs": [],
   "source": [
    "# Add an extra dimension : \n",
    "x_reshaped = x.reshape(1, 9)\n",
    "x_reshaped, x_reshaped.shape"
   ],
   "metadata": {
    "collapsed": false
   },
   "id": "b0492f71e35c7df0",
   "execution_count": null
  },
  {
   "cell_type": "code",
   "outputs": [],
   "source": [
    "# Change the view\n",
    "z = x.view(3, 3)\n",
    "z, z.shape"
   ],
   "metadata": {
    "collapsed": false
   },
   "id": "376147fc50b47bda",
   "execution_count": null
  },
  {
   "cell_type": "code",
   "outputs": [],
   "source": [
    "# Changing z changes x (because a view of a tensor shares the same memory as the original tensor\n",
    "z[:, 0] = 5\n",
    "z, x"
   ],
   "metadata": {
    "collapsed": false
   },
   "id": "423e9ed136e65a81",
   "execution_count": null
  },
  {
   "cell_type": "code",
   "outputs": [],
   "source": [
    "# Stack tensors on top of each other :\n",
    "x_stacked = torch.stack([x, x, x, x], dim=0)\n",
    "x_stacked"
   ],
   "metadata": {
    "collapsed": false
   },
   "id": "666f627f8ebd061a",
   "execution_count": null
  },
  {
   "cell_type": "code",
   "outputs": [],
   "source": [
    "# Squeeze - returns a tensor with all dimensions of size 1 removed\n",
    "x_reshaped, x_reshaped.shape"
   ],
   "metadata": {
    "collapsed": false
   },
   "id": "1e08387255dce9a8",
   "execution_count": null
  },
  {
   "cell_type": "code",
   "outputs": [],
   "source": [
    "x_reshaped.squeeze(), x_reshaped.squeeze().shape"
   ],
   "metadata": {
    "collapsed": false
   },
   "id": "575ee605b0bae2a8",
   "execution_count": null
  },
  {
   "cell_type": "code",
   "outputs": [],
   "source": [
    "# un-Squeeze - adds a single dimension to a target tensor at a specific dim\n",
    "x_unsqueezed = torch.unsqueeze(x, dim=0)\n",
    "x_unsqueezed, x_unsqueezed.shape"
   ],
   "metadata": {
    "collapsed": false
   },
   "id": "3e2914e7e3ed8886",
   "execution_count": null
  },
  {
   "cell_type": "code",
   "outputs": [],
   "source": [
    "# torch.permute - rearranges the dimensions of a target tensor in a specified order, shares the same memory as the original tensor, just like a view!\n",
    "x_original = torch.rand(size=(224, 224, 3)) # image data [height, width, color channels]\n",
    "\n",
    "# Permute the original tensor to rearrange the axis (or dim) order, we move color to first column :\n",
    "x_permuted = x_original.permute(2, 0, 1)\n",
    "\n",
    "print(f\"Previous shape : {x_original.shape}\")\n",
    "print(f\"Permuted shape : {x_permuted.shape}\")"
   ],
   "metadata": {
    "collapsed": false
   },
   "id": "d34f25988cf3d5e7",
   "execution_count": null
  },
  {
   "cell_type": "markdown",
   "source": [
    "## Indexing (selecting data from tensors\n",
    "\n",
    "Indexing with PyTorch is similar to indexing with NumPy"
   ],
   "metadata": {
    "collapsed": false
   },
   "id": "2cf233058a11a489"
  },
  {
   "cell_type": "code",
   "outputs": [
    {
     "data": {
      "text/plain": "(tensor([[[1, 2, 3],\n          [4, 5, 6],\n          [7, 8, 9]]], device='mps:0'),\n torch.Size([1, 3, 3]))"
     },
     "execution_count": 50,
     "metadata": {},
     "output_type": "execute_result"
    }
   ],
   "source": [
    "# Create a tensor :\n",
    "x = torch.arange(1, 10).reshape(1, 3, 3)\n",
    "x, x.shape"
   ],
   "metadata": {
    "collapsed": false,
    "ExecuteTime": {
     "end_time": "2024-03-14T12:23:57.370040Z",
     "start_time": "2024-03-14T12:23:57.350413Z"
    }
   },
   "id": "5c5c7242483ad3df",
   "execution_count": 50
  },
  {
   "cell_type": "code",
   "outputs": [
    {
     "data": {
      "text/plain": "tensor([[1, 2, 3],\n        [4, 5, 6],\n        [7, 8, 9]], device='mps:0')"
     },
     "execution_count": 51,
     "metadata": {},
     "output_type": "execute_result"
    }
   ],
   "source": [
    "# Let's index on our new tensor :\n",
    "x[0]"
   ],
   "metadata": {
    "collapsed": false,
    "ExecuteTime": {
     "end_time": "2024-03-14T12:24:10.020828Z",
     "start_time": "2024-03-14T12:24:10.010296Z"
    }
   },
   "id": "dea3ec8a0b46642",
   "execution_count": 51
  },
  {
   "cell_type": "code",
   "outputs": [
    {
     "data": {
      "text/plain": "tensor([1, 2, 3], device='mps:0')"
     },
     "execution_count": 54,
     "metadata": {},
     "output_type": "execute_result"
    }
   ],
   "source": [
    "# Index on the middle bracket, dim 1\n",
    "x[0][0]"
   ],
   "metadata": {
    "collapsed": false,
    "ExecuteTime": {
     "end_time": "2024-03-14T12:24:29.794694Z",
     "start_time": "2024-03-14T12:24:29.783930Z"
    }
   },
   "id": "5c3a7df39c3e978b",
   "execution_count": 54
  },
  {
   "cell_type": "code",
   "outputs": [
    {
     "data": {
      "text/plain": "tensor(1, device='mps:0')"
     },
     "execution_count": 53,
     "metadata": {},
     "output_type": "execute_result"
    }
   ],
   "source": [
    "# Index on the most inner bracket : \n",
    "x[0][0][0]"
   ],
   "metadata": {
    "collapsed": false,
    "ExecuteTime": {
     "end_time": "2024-03-14T12:24:27.942839Z",
     "start_time": "2024-03-14T12:24:27.933015Z"
    }
   },
   "id": "f0cd20d882c6e518",
   "execution_count": 53
  },
  {
   "cell_type": "code",
   "outputs": [
    {
     "data": {
      "text/plain": "tensor(9, device='mps:0')"
     },
     "execution_count": 55,
     "metadata": {},
     "output_type": "execute_result"
    }
   ],
   "source": [
    "x[0][2][2]"
   ],
   "metadata": {
    "collapsed": false,
    "ExecuteTime": {
     "end_time": "2024-03-14T12:24:43.711284Z",
     "start_time": "2024-03-14T12:24:43.704142Z"
    }
   },
   "id": "effb692d3fc616aa",
   "execution_count": 55
  },
  {
   "cell_type": "code",
   "outputs": [
    {
     "data": {
      "text/plain": "tensor([[1, 2, 3]], device='mps:0')"
     },
     "execution_count": 56,
     "metadata": {},
     "output_type": "execute_result"
    }
   ],
   "source": [
    "# You can also use \":\" to select \"all\" of a target dimension :\n",
    "x[:, 0]"
   ],
   "metadata": {
    "collapsed": false,
    "ExecuteTime": {
     "end_time": "2024-03-14T12:24:44.013783Z",
     "start_time": "2024-03-14T12:24:44.009496Z"
    }
   },
   "id": "ab4ac4df8f821f8c",
   "execution_count": 56
  },
  {
   "cell_type": "code",
   "outputs": [
    {
     "data": {
      "text/plain": "tensor([[2, 5, 8]], device='mps:0')"
     },
     "execution_count": 57,
     "metadata": {},
     "output_type": "execute_result"
    }
   ],
   "source": [
    "# Get all values of 0 and 1 dim, but only index 1 of 2nd dimensions :\n",
    "\n",
    "x[:, :, 1]"
   ],
   "metadata": {
    "collapsed": false,
    "ExecuteTime": {
     "end_time": "2024-03-14T12:24:44.303428Z",
     "start_time": "2024-03-14T12:24:44.284293Z"
    }
   },
   "id": "b1dd660a09ddf423",
   "execution_count": 57
  },
  {
   "cell_type": "code",
   "outputs": [
    {
     "data": {
      "text/plain": "tensor([5], device='mps:0')"
     },
     "execution_count": 58,
     "metadata": {},
     "output_type": "execute_result"
    }
   ],
   "source": [
    "# Get all values of the 0 dim, but only index 1 for dim 1 and 2\n",
    "x[:, 1, 1]"
   ],
   "metadata": {
    "collapsed": false,
    "ExecuteTime": {
     "end_time": "2024-03-14T12:24:44.917162Z",
     "start_time": "2024-03-14T12:24:44.913645Z"
    }
   },
   "id": "b1044dd562d64f04",
   "execution_count": 58
  },
  {
   "cell_type": "code",
   "outputs": [
    {
     "data": {
      "text/plain": "tensor([[4, 5, 6]], device='mps:0')"
     },
     "execution_count": 59,
     "metadata": {},
     "output_type": "execute_result"
    }
   ],
   "source": [
    "x[:, 1, :]"
   ],
   "metadata": {
    "collapsed": false,
    "ExecuteTime": {
     "end_time": "2024-03-14T12:24:45.248326Z",
     "start_time": "2024-03-14T12:24:45.244225Z"
    }
   },
   "id": "ec39c30fc90c49da",
   "execution_count": 59
  },
  {
   "cell_type": "code",
   "outputs": [
    {
     "data": {
      "text/plain": "tensor([1, 2, 3], device='mps:0')"
     },
     "execution_count": 60,
     "metadata": {},
     "output_type": "execute_result"
    }
   ],
   "source": [
    "# Get index 0 of 0th abd 1st dim and all values of 2nd dim :\n",
    "x[0, 0, :]"
   ],
   "metadata": {
    "collapsed": false,
    "ExecuteTime": {
     "end_time": "2024-03-14T12:24:45.589988Z",
     "start_time": "2024-03-14T12:24:45.583305Z"
    }
   },
   "id": "5100a9ae8ea6f132",
   "execution_count": 60
  },
  {
   "cell_type": "code",
   "outputs": [
    {
     "data": {
      "text/plain": "tensor([[[1, 2, 3],\n         [4, 5, 6],\n         [7, 8, 9]]], device='mps:0')"
     },
     "execution_count": 61,
     "metadata": {},
     "output_type": "execute_result"
    }
   ],
   "source": [
    "x"
   ],
   "metadata": {
    "collapsed": false,
    "ExecuteTime": {
     "end_time": "2024-03-14T12:24:46.095265Z",
     "start_time": "2024-03-14T12:24:46.089183Z"
    }
   },
   "id": "efb9750d566cc674",
   "execution_count": 61
  },
  {
   "cell_type": "code",
   "outputs": [
    {
     "name": "stdout",
     "output_type": "stream",
     "text": [
      "tensor(9, device='mps:0')\n",
      "tensor([[3, 6, 9]], device='mps:0')\n"
     ]
    }
   ],
   "source": [
    "# Index on x to return 9 \n",
    "print(x[0][2][2])\n",
    "\n",
    "# Index on x to return 3,6,9\n",
    "print(x[:, :, 2])"
   ],
   "metadata": {
    "collapsed": false,
    "ExecuteTime": {
     "end_time": "2024-03-14T12:24:46.583649Z",
     "start_time": "2024-03-14T12:24:46.577370Z"
    }
   },
   "id": "d474134a610d840a",
   "execution_count": 62
  },
  {
   "cell_type": "markdown",
   "source": [
    "## Pytorch tensors and NumPy\n",
    "\n",
    "NumPy is a popular scientific Python numerical computing library.\n",
    "\n",
    "And because of this PyTorch has functionality to interact with it.\n",
    "\n",
    "* Data in NumPy, want in PyTorch tensor -> `torch.from_numpy(ndarray)`\n",
    "* Pytorch tensor -> NumPy -> `torch.Tensor.numpy()\n",
    "\n",
    "NumPy default data type is float64, Pytorch is float32 , watch out for datatype issues."
   ],
   "metadata": {
    "collapsed": false
   },
   "id": "e35343641b776b97"
  },
  {
   "cell_type": "code",
   "outputs": [],
   "source": [
    "array = np.arange(1.0, 8.0)\n",
    "tensor = torch.from_numpy(array) # when converting from np to pytorch, tensor will be float64, because numpy uses float64\n",
    "array, tensor"
   ],
   "metadata": {
    "collapsed": false
   },
   "id": "408992f4a6f7033d",
   "execution_count": null
  },
  {
   "cell_type": "code",
   "outputs": [],
   "source": [
    "# Change the value of the array, what will it do to tensor? they do not share the underlying data\n",
    "array = array + 1\n",
    "array, tensor"
   ],
   "metadata": {
    "collapsed": false
   },
   "id": "4deb54393e199264",
   "execution_count": null
  },
  {
   "cell_type": "code",
   "outputs": [],
   "source": [
    "# Tensor to np array : \n",
    "tensor = torch.ones(7)\n",
    "numpy_tensor = tensor.cpu().numpy() # need to copy to cpu first, since we use the mps\n",
    "tensor, numpy_tensor"
   ],
   "metadata": {
    "collapsed": false
   },
   "id": "b930a0ebf7fda881",
   "execution_count": null
  },
  {
   "cell_type": "markdown",
   "source": [
    "## Reproducibility - trying to take the random out of random\n",
    "\n",
    "In short how a neural net learns is :\n",
    "`start with random numbers -> tensor operations -> update random  numbers to try and make better representation of the data -> repeat -> repeat -> ...`\n",
    "\n",
    "To reduce the randomness in NNs and Pytorch comes the concept of **random seed**.\n",
    "\n",
    "Essentially what the random seed does is flavor the randomness."
   ],
   "metadata": {
    "collapsed": false
   },
   "id": "38636b45cf6afa68"
  },
  {
   "cell_type": "code",
   "outputs": [],
   "source": [
    "# Create two random tensors \n",
    "random_tensor_A = torch.rand(3, 4)\n",
    "random_tensor_B = torch.rand(3, 4)\n",
    "\n",
    "print(random_tensor_A)\n",
    "print(random_tensor_B)\n",
    "\n",
    "print(random_tensor_A == random_tensor_B)"
   ],
   "metadata": {
    "collapsed": false
   },
   "id": "de15688692c3e70c",
   "execution_count": null
  },
  {
   "cell_type": "code",
   "outputs": [],
   "source": [
    "# now we make some random but reproducible tensors :\n",
    "RANDOM_SEED = 42\n",
    "torch.manual_seed(RANDOM_SEED)\n",
    "random_tensor_C = torch.rand(3, 4)\n",
    "\n",
    "torch.manual_seed(RANDOM_SEED)\n",
    "random_tensor_D = torch.rand(3, 4)\n",
    "\n",
    "print(random_tensor_C)\n",
    "print(random_tensor_D)\n",
    "\n",
    "print(random_tensor_C == random_tensor_D)"
   ],
   "metadata": {
    "collapsed": false
   },
   "id": "6e7086a7edf73d4e",
   "execution_count": null
  },
  {
   "cell_type": "markdown",
   "source": [
    "## Running tensors and PyTorch on the GPU\n",
    "\n",
    "### Getting a GPU\n",
    "\n",
    "1. Google Colab (Free, Pro, Pro+)\n",
    "2. Use your own GPU - takes setup and requires $$$\n",
    "3. Cloud computing - GCP, AWS, Azure etc.\n",
    "\n",
    "For 2 and 3 PyTorch + GPU drivers takes some time to setup."
   ],
   "metadata": {
    "collapsed": false
   },
   "id": "196434b0c6ad531d"
  },
  {
   "cell_type": "code",
   "outputs": [],
   "source": [
    "device = \"cpu\"\n",
    "if torch.cuda.is_available(): \n",
    "    device = \"cuda\"\n",
    "elif torch.backends.mps.is_available():\n",
    "    device = \"mps\"\n",
    "\n",
    "torch.set_default_device(torch.device(device))"
   ],
   "metadata": {
    "collapsed": false
   },
   "id": "103e44bbced2418f",
   "execution_count": null
  },
  {
   "cell_type": "markdown",
   "source": [
    "### Moving tensors from GPU to CPU e.g. for using it to turn into NumPy:"
   ],
   "metadata": {
    "collapsed": false
   },
   "id": "ff5724e996b94d7a"
  },
  {
   "cell_type": "code",
   "outputs": [],
   "source": [
    "tensor_on_GPU = torch.ones(1,5)\n",
    "tensor_on_GPU"
   ],
   "metadata": {
    "collapsed": false
   },
   "id": "3b2d404340dc2cdb",
   "execution_count": null
  },
  {
   "cell_type": "code",
   "outputs": [],
   "source": [
    "tensor_on_CPU = tensor_on_GPU.to(\"cpu\")\n",
    "tensor_on_CPU, tensor_on_CPU.device"
   ],
   "metadata": {
    "collapsed": false
   },
   "id": "fe5f5f6130693a33",
   "execution_count": null
  },
  {
   "cell_type": "code",
   "outputs": [],
   "source": [],
   "metadata": {
    "collapsed": false
   },
   "id": "ff7fb0b4b70ae043"
  }
 ],
 "metadata": {
  "kernelspec": {
   "display_name": "Python 3",
   "language": "python",
   "name": "python3"
  },
  "language_info": {
   "codemirror_mode": {
    "name": "ipython",
    "version": 2
   },
   "file_extension": ".py",
   "mimetype": "text/x-python",
   "name": "python",
   "nbconvert_exporter": "python",
   "pygments_lexer": "ipython2",
   "version": "2.7.6"
  }
 },
 "nbformat": 4,
 "nbformat_minor": 5
}
